{
 "cells": [
  {
   "cell_type": "markdown",
   "metadata": {
    "colab_type": "text",
    "id": "view-in-github"
   },
   "source": [
    "<a href=\"https://colab.research.google.com/github/0xpix/Road-Sign-Tiny-VGG-architecture/blob/main/road_sign.ipynb\" target=\"_parent\"><img src=\"https://colab.research.google.com/assets/colab-badge.svg\" alt=\"Open In Colab\"/></a>"
   ]
  },
  {
   "cell_type": "code",
   "execution_count": 1,
   "metadata": {
    "colab": {
     "base_uri": "https://localhost:8080/"
    },
    "id": "WHdmeuDEpFj_",
    "outputId": "97046dff-3aaf-4293-bba3-405d6825eaae"
   },
   "outputs": [
    {
     "name": "stdout",
     "output_type": "stream",
     "text": [
      "Looking in indexes: https://pypi.org/simple, https://us-python.pkg.dev/colab-wheels/public/simple/\n",
      "Collecting opendatasets\n",
      "  Downloading opendatasets-0.1.22-py3-none-any.whl (15 kB)\n",
      "Requirement already satisfied: kaggle in /usr/local/lib/python3.9/dist-packages (from opendatasets) (1.5.13)\n",
      "Requirement already satisfied: click in /usr/local/lib/python3.9/dist-packages (from opendatasets) (8.1.3)\n",
      "Requirement already satisfied: tqdm in /usr/local/lib/python3.9/dist-packages (from opendatasets) (4.65.0)\n",
      "Requirement already satisfied: urllib3 in /usr/local/lib/python3.9/dist-packages (from kaggle->opendatasets) (1.26.15)\n",
      "Requirement already satisfied: six>=1.10 in /usr/local/lib/python3.9/dist-packages (from kaggle->opendatasets) (1.16.0)\n",
      "Requirement already satisfied: requests in /usr/local/lib/python3.9/dist-packages (from kaggle->opendatasets) (2.27.1)\n",
      "Requirement already satisfied: python-slugify in /usr/local/lib/python3.9/dist-packages (from kaggle->opendatasets) (8.0.1)\n",
      "Requirement already satisfied: certifi in /usr/local/lib/python3.9/dist-packages (from kaggle->opendatasets) (2022.12.7)\n",
      "Requirement already satisfied: python-dateutil in /usr/local/lib/python3.9/dist-packages (from kaggle->opendatasets) (2.8.2)\n",
      "Requirement already satisfied: text-unidecode>=1.3 in /usr/local/lib/python3.9/dist-packages (from python-slugify->kaggle->opendatasets) (1.3)\n",
      "Requirement already satisfied: charset-normalizer~=2.0.0 in /usr/local/lib/python3.9/dist-packages (from requests->kaggle->opendatasets) (2.0.12)\n",
      "Requirement already satisfied: idna<4,>=2.5 in /usr/local/lib/python3.9/dist-packages (from requests->kaggle->opendatasets) (3.4)\n",
      "Installing collected packages: opendatasets\n",
      "Successfully installed opendatasets-0.1.22\n"
     ]
    }
   ],
   "source": [
    "! pip install opendatasets"
   ]
  },
  {
   "cell_type": "code",
   "execution_count": 2,
   "metadata": {
    "colab": {
     "base_uri": "https://localhost:8080/"
    },
    "id": "Mw1hEOdgoRbs",
    "outputId": "0e036aca-2d02-44ea-e2cb-d871016d0825"
   },
   "outputs": [
    {
     "name": "stdout",
     "output_type": "stream",
     "text": [
      "Please provide your Kaggle credentials to download this dataset. Learn more: http://bit.ly/kaggle-creds\n",
      "Your Kaggle username: nschlfat\n",
      "Your Kaggle Key: ··········\n",
      "Downloading gtsrb-german-traffic-sign.zip to ./gtsrb-german-traffic-sign\n"
     ]
    },
    {
     "name": "stderr",
     "output_type": "stream",
     "text": [
      "100%|██████████| 612M/612M [00:04<00:00, 136MB/s]\n"
     ]
    },
    {
     "name": "stdout",
     "output_type": "stream",
     "text": [
      "\n"
     ]
    }
   ],
   "source": [
    "import opendatasets as od\n",
    "\n",
    "# GTSRB - German Traffic Sign Recognition Dataset by Mykola\n",
    "od.download(\n",
    "\t\"https://www.kaggle.com/datasets/meowmeowmeowmeowmeow/gtsrb-german-traffic-sign\")"
   ]
  },
  {
   "cell_type": "code",
   "execution_count": 3,
   "metadata": {
    "id": "AXrNMlMgjFk8"
   },
   "outputs": [],
   "source": [
    "# import libraries\n",
    "import pandas as pd\n",
    "import numpy as np\n",
    "import matplotlib.pyplot as plt\n",
    "import random\n",
    "\n",
    "# Tensorflow\n",
    "import tensorflow as tf\n",
    "from keras.utils import load_img, img_to_array\n",
    "from keras.optimizers import Adam\n",
    "from keras import layers, models"
   ]
  },
  {
   "cell_type": "code",
   "execution_count": 4,
   "metadata": {
    "id": "rAyEafxSpcxL"
   },
   "outputs": [],
   "source": [
    "train_data = pd.read_csv('gtsrb-german-traffic-sign/Train.csv')\n",
    "test_data = pd.read_csv('gtsrb-german-traffic-sign/Test.csv')"
   ]
  },
  {
   "cell_type": "code",
   "execution_count": 5,
   "metadata": {
    "id": "ZHYwd4J9FI7d"
   },
   "outputs": [],
   "source": [
    "labels = {0:'Speed limit(20km/h)',\n",
    "          1:'Speed limit(30km/h)',\n",
    "          2:'Speed limit(50km/h)',\n",
    "          3:'Speed limit(60km/h)',\n",
    "          4:'Speed limit(70km/h)',\n",
    "          5:'Speed limit(80km/h)',\n",
    "          6:'End of speed limit(80km/h)',\n",
    "          7:'Speed limit(100km/h)',\n",
    "          8:'Speed limit(120km/h)',\n",
    "          9:'No passing',\n",
    "          10:'No passing for vehicles over 3.5 metric tons',\n",
    "          11:'Right-of-way at the next intersection',\n",
    "          12:'Priority road',\n",
    "          13:'Yield',\n",
    "          14:'Stop',\n",
    "          15:'No vehicles',\n",
    "          16:'Vehicles over 3.5 metric tons prohibted',\n",
    "          17:'No entry',\n",
    "          18:'General caution',\n",
    "          19:'Dangerous curve to the left',\n",
    "          20:'Dangerous curve to the right',\n",
    "          21:'Double curve',\n",
    "          22:'Bumpy road',\n",
    "          23:'Slippery road',\n",
    "          24:'Road narrows on the right',\n",
    "          25:'Road work',\n",
    "          26:'Traffic signals',\n",
    "          27:'Pedestrians',\n",
    "          28:'Children crossing',\n",
    "          29:'Bicycles crossing',\n",
    "          30:'Beware of ice/snow',\n",
    "          31:'Wild animals crossing',\n",
    "          32:'End of all speed and passing limits',\n",
    "          33:'Turn right ahead',\n",
    "          34:'Turn left ahead',\n",
    "          35:'Ahead only',\n",
    "          36:'Go straight or right',\n",
    "          37:'Go straight or left',\n",
    "          38:'Keep right',\n",
    "          39:'Keep left',\n",
    "          40:'Roundabout mandatory',\n",
    "          41:'End of no passing',\n",
    "          42:'End of no passing by vehicles over 3.5 metric tons'}"
   ]
  },
  {
   "cell_type": "code",
   "execution_count": 6,
   "metadata": {
    "id": "IXMphXxkINyq"
   },
   "outputs": [],
   "source": [
    "# labels.values()"
   ]
  },
  {
   "cell_type": "code",
   "execution_count": 7,
   "metadata": {
    "id": "tcfBwlbmIX7r"
   },
   "outputs": [],
   "source": [
    "# # replace ClassId with the actual road sign name\n",
    "# train_data['ClassId'] = [labels[id] for id in train_data['ClassId']]\n",
    "# test_data['ClassId'] = [labels[id] for id in test_data['ClassId']]"
   ]
  },
  {
   "cell_type": "code",
   "execution_count": 8,
   "metadata": {
    "id": "ex2z12x2Jzga"
   },
   "outputs": [],
   "source": [
    "# test_data"
   ]
  },
  {
   "cell_type": "code",
   "execution_count": 9,
   "metadata": {
    "id": "kYMQ1l0yJnEt"
   },
   "outputs": [],
   "source": [
    "# getting the Path and ClassId only\n",
    "train_data = train_data[['ClassId', 'Path']]\n",
    "test_data = test_data[['ClassId', 'Path']]"
   ]
  },
  {
   "cell_type": "code",
   "execution_count": 10,
   "metadata": {
    "colab": {
     "base_uri": "https://localhost:8080/",
     "height": 206
    },
    "id": "YpcjmA82KOIa",
    "outputId": "7cfb8462-9293-428e-8b06-894d1b466ab1"
   },
   "outputs": [
    {
     "data": {
      "text/html": [
       "\n",
       "  <div id=\"df-92b99d3c-f916-439e-9df0-879dc12ce651\">\n",
       "    <div class=\"colab-df-container\">\n",
       "      <div>\n",
       "<style scoped>\n",
       "    .dataframe tbody tr th:only-of-type {\n",
       "        vertical-align: middle;\n",
       "    }\n",
       "\n",
       "    .dataframe tbody tr th {\n",
       "        vertical-align: top;\n",
       "    }\n",
       "\n",
       "    .dataframe thead th {\n",
       "        text-align: right;\n",
       "    }\n",
       "</style>\n",
       "<table border=\"1\" class=\"dataframe\">\n",
       "  <thead>\n",
       "    <tr style=\"text-align: right;\">\n",
       "      <th></th>\n",
       "      <th>ClassId</th>\n",
       "      <th>Path</th>\n",
       "    </tr>\n",
       "  </thead>\n",
       "  <tbody>\n",
       "    <tr>\n",
       "      <th>0</th>\n",
       "      <td>16</td>\n",
       "      <td>Test/00000.png</td>\n",
       "    </tr>\n",
       "    <tr>\n",
       "      <th>1</th>\n",
       "      <td>1</td>\n",
       "      <td>Test/00001.png</td>\n",
       "    </tr>\n",
       "    <tr>\n",
       "      <th>2</th>\n",
       "      <td>38</td>\n",
       "      <td>Test/00002.png</td>\n",
       "    </tr>\n",
       "    <tr>\n",
       "      <th>3</th>\n",
       "      <td>33</td>\n",
       "      <td>Test/00003.png</td>\n",
       "    </tr>\n",
       "    <tr>\n",
       "      <th>4</th>\n",
       "      <td>11</td>\n",
       "      <td>Test/00004.png</td>\n",
       "    </tr>\n",
       "  </tbody>\n",
       "</table>\n",
       "</div>\n",
       "      <button class=\"colab-df-convert\" onclick=\"convertToInteractive('df-92b99d3c-f916-439e-9df0-879dc12ce651')\"\n",
       "              title=\"Convert this dataframe to an interactive table.\"\n",
       "              style=\"display:none;\">\n",
       "        \n",
       "  <svg xmlns=\"http://www.w3.org/2000/svg\" height=\"24px\"viewBox=\"0 0 24 24\"\n",
       "       width=\"24px\">\n",
       "    <path d=\"M0 0h24v24H0V0z\" fill=\"none\"/>\n",
       "    <path d=\"M18.56 5.44l.94 2.06.94-2.06 2.06-.94-2.06-.94-.94-2.06-.94 2.06-2.06.94zm-11 1L8.5 8.5l.94-2.06 2.06-.94-2.06-.94L8.5 2.5l-.94 2.06-2.06.94zm10 10l.94 2.06.94-2.06 2.06-.94-2.06-.94-.94-2.06-.94 2.06-2.06.94z\"/><path d=\"M17.41 7.96l-1.37-1.37c-.4-.4-.92-.59-1.43-.59-.52 0-1.04.2-1.43.59L10.3 9.45l-7.72 7.72c-.78.78-.78 2.05 0 2.83L4 21.41c.39.39.9.59 1.41.59.51 0 1.02-.2 1.41-.59l7.78-7.78 2.81-2.81c.8-.78.8-2.07 0-2.86zM5.41 20L4 18.59l7.72-7.72 1.47 1.35L5.41 20z\"/>\n",
       "  </svg>\n",
       "      </button>\n",
       "      \n",
       "  <style>\n",
       "    .colab-df-container {\n",
       "      display:flex;\n",
       "      flex-wrap:wrap;\n",
       "      gap: 12px;\n",
       "    }\n",
       "\n",
       "    .colab-df-convert {\n",
       "      background-color: #E8F0FE;\n",
       "      border: none;\n",
       "      border-radius: 50%;\n",
       "      cursor: pointer;\n",
       "      display: none;\n",
       "      fill: #1967D2;\n",
       "      height: 32px;\n",
       "      padding: 0 0 0 0;\n",
       "      width: 32px;\n",
       "    }\n",
       "\n",
       "    .colab-df-convert:hover {\n",
       "      background-color: #E2EBFA;\n",
       "      box-shadow: 0px 1px 2px rgba(60, 64, 67, 0.3), 0px 1px 3px 1px rgba(60, 64, 67, 0.15);\n",
       "      fill: #174EA6;\n",
       "    }\n",
       "\n",
       "    [theme=dark] .colab-df-convert {\n",
       "      background-color: #3B4455;\n",
       "      fill: #D2E3FC;\n",
       "    }\n",
       "\n",
       "    [theme=dark] .colab-df-convert:hover {\n",
       "      background-color: #434B5C;\n",
       "      box-shadow: 0px 1px 3px 1px rgba(0, 0, 0, 0.15);\n",
       "      filter: drop-shadow(0px 1px 2px rgba(0, 0, 0, 0.3));\n",
       "      fill: #FFFFFF;\n",
       "    }\n",
       "  </style>\n",
       "\n",
       "      <script>\n",
       "        const buttonEl =\n",
       "          document.querySelector('#df-92b99d3c-f916-439e-9df0-879dc12ce651 button.colab-df-convert');\n",
       "        buttonEl.style.display =\n",
       "          google.colab.kernel.accessAllowed ? 'block' : 'none';\n",
       "\n",
       "        async function convertToInteractive(key) {\n",
       "          const element = document.querySelector('#df-92b99d3c-f916-439e-9df0-879dc12ce651');\n",
       "          const dataTable =\n",
       "            await google.colab.kernel.invokeFunction('convertToInteractive',\n",
       "                                                     [key], {});\n",
       "          if (!dataTable) return;\n",
       "\n",
       "          const docLinkHtml = 'Like what you see? Visit the ' +\n",
       "            '<a target=\"_blank\" href=https://colab.research.google.com/notebooks/data_table.ipynb>data table notebook</a>'\n",
       "            + ' to learn more about interactive tables.';\n",
       "          element.innerHTML = '';\n",
       "          dataTable['output_type'] = 'display_data';\n",
       "          await google.colab.output.renderOutput(dataTable, element);\n",
       "          const docLink = document.createElement('div');\n",
       "          docLink.innerHTML = docLinkHtml;\n",
       "          element.appendChild(docLink);\n",
       "        }\n",
       "      </script>\n",
       "    </div>\n",
       "  </div>\n",
       "  "
      ],
      "text/plain": [
       "   ClassId            Path\n",
       "0       16  Test/00000.png\n",
       "1        1  Test/00001.png\n",
       "2       38  Test/00002.png\n",
       "3       33  Test/00003.png\n",
       "4       11  Test/00004.png"
      ]
     },
     "execution_count": 10,
     "metadata": {},
     "output_type": "execute_result"
    }
   ],
   "source": [
    "test_data.head()"
   ]
  },
  {
   "cell_type": "code",
   "execution_count": null,
   "metadata": {
    "id": "8KqSUcRdjWM1"
   },
   "outputs": [],
   "source": [
    "train_data['Path'] = 'gtsrb-german-traffic-sign/' + train_data['Path']\n",
    "test_data['Path'] = 'gtsrb-german-traffic-sign/' + test_data['Path']"
   ]
  },
  {
   "cell_type": "code",
   "execution_count": 12,
   "metadata": {
    "colab": {
     "base_uri": "https://localhost:8080/",
     "height": 35
    },
    "id": "Kfyz3MzyM38V",
    "outputId": "659a76d8-41d8-4995-e1e9-de03169d7837"
   },
   "outputs": [
    {
     "data": {
      "application/vnd.google.colaboratory.intrinsic+json": {
       "type": "string"
      },
      "text/plain": [
       "'gtsrb-german-traffic-sign/Train/20/00020_00000_00001.png'"
      ]
     },
     "execution_count": 12,
     "metadata": {},
     "output_type": "execute_result"
    }
   ],
   "source": [
    "train_data.Path[1]"
   ]
  },
  {
   "cell_type": "code",
   "execution_count": 13,
   "metadata": {
    "colab": {
     "base_uri": "https://localhost:8080/",
     "height": 463
    },
    "id": "27bju5EmmAsv",
    "outputId": "948e5649-72af-473c-d341-36774f3e7da0"
   },
   "outputs": [
    {
     "name": "stdout",
     "output_type": "stream",
     "text": [
      "image shape : (57, 58, 3)\n"
     ]
    },
    {
     "data": {
      "text/plain": [
       "(-0.5, 57.5, 56.5, -0.5)"
      ]
     },
     "execution_count": 13,
     "metadata": {},
     "output_type": "execute_result"
    },
    {
     "data": {
      "image/png": "[encoded data removed]",
      "text/plain": [
       "<Figure size 640x480 with 1 Axes>"
      ]
     },
     "metadata": {},
     "output_type": "display_data"
    }
   ],
   "source": [
    "# create a random number\n",
    "random_nbr = random.randint(1, len(train_data)) # or X.shape[0]\n",
    "\n",
    "# read the images randomly and plot'm\n",
    "img = plt.imread(train_data.Path[random_nbr])\n",
    "print(f'image shape : {img.shape}')\n",
    "plt.imshow(img)\n",
    "plt.title(labels[train_data.ClassId[random_nbr]])\n",
    "plt.axis('off')"
   ]
  },
  {
   "cell_type": "code",
   "execution_count": null,
   "metadata": {
    "id": "Z1AUh1LIYYeF"
   },
   "outputs": [],
   "source": [
    "# Split the data into training and validation sets\n",
    "train_data = train_data.sample(frac=0.8, random_state=0)\n",
    "valid_data = train_data.drop(train_data.index)\n",
    "\n",
    "# Preprocess the data\n",
    "IMG_SIZE = 32\n",
    "NUM_CLASSES = len(labels)\n",
    "\n",
    "def preprocess_data(df):\n",
    "    X = []\n",
    "    y = []\n",
    "    for _, row in df.iterrows():\n",
    "        img = load_img(row.Path, target_size=(IMG_SIZE, IMG_SIZE))\n",
    "        img_array = img_to_array(img) / 255.0\n",
    "        X.append(img_array)\n",
    "        y.append(tf.keras.utils.to_categorical(row.ClassId, num_classes=NUM_CLASSES))\n",
    "    return np.array(X), np.array(y)\n",
    "\n",
    "X_train, y_train = preprocess_data(train_data)\n",
    "X_valid, y_valid = preprocess_data(valid_data)\n",
    "X_test, y_test = preprocess_data(test_data)"
   ]
  },
  {
   "cell_type": "code",
   "execution_count": 15,
   "metadata": {
    "id": "262XeUNhKuGh"
   },
   "outputs": [],
   "source": [
    "# Define the model architecture\n",
    "model_2 = models.Sequential([\n",
    "    layers.Conv2D(32, (3, 3), activation='relu', input_shape=(IMG_SIZE, IMG_SIZE, 3)),\n",
    "    layers.Conv2D(64, (3, 3), activation='relu'),\n",
    "    layers.MaxPool2D((2, 2)),\n",
    "    layers.MaxPool2D((2, 2)),\n",
    "    layers.Conv2D(128, (3, 3), activation='relu'),\n",
    "    layers.Conv2D(64, (3, 3), activation='relu'),\n",
    "    layers.MaxPooling2D((2, 2)),\n",
    "    layers.Flatten(),\n",
    "    layers.Dense(128, activation='relu'),\n",
    "    layers.Dense(NUM_CLASSES, activation='softmax')\n",
    "])"
   ]
  },
  {
   "cell_type": "code",
   "execution_count": 16,
   "metadata": {
    "colab": {
     "base_uri": "https://localhost:8080/"
    },
    "id": "i6upjOLQcHJs",
    "outputId": "f072cc19-16ca-40f4-d043-20a88ceb1d87"
   },
   "outputs": [
    {
     "name": "stdout",
     "output_type": "stream",
     "text": [
      "Model: \"sequential\"\n",
      "_________________________________________________________________\n",
      " Layer (type)                Output Shape              Param #   \n",
      "=================================================================\n",
      " conv2d (Conv2D)             (None, 30, 30, 32)        896       \n",
      "                                                                 \n",
      " conv2d_1 (Conv2D)           (None, 28, 28, 64)        18496     \n",
      "                                                                 \n",
      " max_pooling2d (MaxPooling2D  (None, 14, 14, 64)       0         \n",
      " )                                                               \n",
      "                                                                 \n",
      " max_pooling2d_1 (MaxPooling  (None, 7, 7, 64)         0         \n",
      " 2D)                                                             \n",
      "                                                                 \n",
      " conv2d_2 (Conv2D)           (None, 5, 5, 128)         73856     \n",
      "                                                                 \n",
      " conv2d_3 (Conv2D)           (None, 3, 3, 64)          73792     \n",
      "                                                                 \n",
      " max_pooling2d_2 (MaxPooling  (None, 1, 1, 64)         0         \n",
      " 2D)                                                             \n",
      "                                                                 \n",
      " flatten (Flatten)           (None, 64)                0         \n",
      "                                                                 \n",
      " dense (Dense)               (None, 128)               8320      \n",
      "                                                                 \n",
      " dense_1 (Dense)             (None, 43)                5547      \n",
      "                                                                 \n",
      "=================================================================\n",
      "Total params: 180,907\n",
      "Trainable params: 180,907\n",
      "Non-trainable params: 0\n",
      "_________________________________________________________________\n"
     ]
    }
   ],
   "source": [
    "model_2.summary()"
   ]
  },
  {
   "cell_type": "code",
   "execution_count": 17,
   "metadata": {
    "id": "Y8p115c0cKEd"
   },
   "outputs": [],
   "source": [
    "model_2.compile(loss='categorical_crossentropy',\n",
    "              optimizer=Adam(),\n",
    "              metrics=['accuracy'])"
   ]
  },
  {
   "cell_type": "code",
   "execution_count": null,
   "metadata": {
    "colab": {
     "base_uri": "https://localhost:8080/"
    },
    "id": "UfVj0S-0cW1b",
    "outputId": "2d1c12b4-7d8d-4a39-c87b-a57e89ed182d"
   },
   "outputs": [
    {
     "name": "stdout",
     "output_type": "stream",
     "text": [
      "Epoch 1/5\n",
      "981/981 [==============================] - 15s 5ms/step - loss: 1.2031 - accuracy: 0.6464\n",
      "Epoch 2/5\n",
      "981/981 [==============================] - 5s 5ms/step - loss: 0.1930 - accuracy: 0.9408\n",
      "Epoch 3/5\n",
      "981/981 [==============================] - 4s 5ms/step - loss: 0.0963 - accuracy: 0.9704\n",
      "Epoch 4/5\n",
      "594/981 [=================>............] - ETA: 2s - loss: 0.0653 - accuracy: 0.9801"
     ]
    }
   ],
   "source": [
    "# fit the model\n",
    "history_2 = model_2.fit(X_train, \n",
    "                        y_train, \n",
    "                        epochs=5, \n",
    "                        validation_data=(X_valid, y_valid))"
   ]
  },
  {
   "cell_type": "code",
   "execution_count": null,
   "metadata": {
    "id": "lz2mEwhjMPm7"
   },
   "outputs": [],
   "source": [
    "model_2.evaluate(X_test, y_test)"
   ]
  },
  {
   "cell_type": "code",
   "execution_count": null,
   "metadata": {
    "id": "I7Y2Pa8Tue4q"
   },
   "outputs": [],
   "source": [
    "pd.DataFrame(history_2.history).plot()"
   ]
  },
  {
   "cell_type": "code",
   "execution_count": null,
   "metadata": {
    "id": "zLNwHiH3oX20"
   },
   "outputs": [],
   "source": [
    "# Get 12 random numbers\n",
    "rand_img = random.sample(range(len(X_test)), 12)\n",
    "\n",
    "# Get the predicted labels for the test data\n",
    "y_pred = model_2.predict(X_test)\n",
    "\n",
    "# Plot the images and the predicted labels\n",
    "fig, axs = plt.subplots(3, 4, figsize=(20, 12))\n",
    "axs = axs.ravel()\n",
    "for i in range(12):\n",
    "  # Plot the image\n",
    "  axs[i].imshow(X_test[rand_img[i]], cmap=plt.cm.binary)\n",
    "\n",
    "  # Get the predicted and actual label indices\n",
    "  pred_label = np.argmax(y_pred[rand_img[i]])\n",
    "  true_label = np.argmax(y_test[rand_img[i]])\n",
    "\n",
    "  # Change the color of the titles depending on if the prediction is right or wrong\n",
    "  if pred_label == true_label:\n",
    "     color = \"green\"\n",
    "  else:\n",
    "     color = \"red\"\n",
    "\n",
    "  # Set the label text\n",
    "  axs[i].set_title(\"Pred: {} {:2.0f}% \\n(True: {})\".format(labels[pred_label],\n",
    "                                                   100*tf.reduce_max(y_pred),\n",
    "                                                   labels[true_label]),\n",
    "             color=color) # set the color to green or red\n",
    "  axs[i].axis('off')\n",
    "plt.show()"
   ]
  }
 ],
 "metadata": {
  "accelerator": "GPU",
  "colab": {
   "authorship_tag": "ABX9TyPzrJ9fvMYRaX5FcWbjJwOV",
   "include_colab_link": true,
   "provenance": []
  },
  "gpuClass": "standard",
  "kernelspec": {
   "display_name": "Python 3",
   "name": "python3"
  },
  "language_info": {
   "name": "python"
  }
 },
 "nbformat": 4,
 "nbformat_minor": 0
}
