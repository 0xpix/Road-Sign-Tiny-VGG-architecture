{
 "cells": [
  {
   "cell_type": "code",
   "execution_count": null,
   "metadata": {},
   "outputs": [],
   "source": [
    "import json\n",
    "import random\n",
    "\n",
    "import pandas as pd\n",
    "import matplotlib.pyplot as plt"
   ]
  },
  {
   "cell_type": "code",
   "execution_count": 2,
   "metadata": {},
   "outputs": [],
   "source": [
    "train_df = pd.read_csv(\"../data/raw/gtsrb-german-traffic-sign/Train.csv\")\n",
    "test_df = pd.read_csv(\"../data/raw/gtsrb-german-traffic-sign/Test.csv\")"
   ]
  },
  {
   "cell_type": "code",
   "execution_count": 3,
   "metadata": {},
   "outputs": [
    {
     "data": {
      "text/html": [
       "<div>\n",
       "<style scoped>\n",
       "    .dataframe tbody tr th:only-of-type {\n",
       "        vertical-align: middle;\n",
       "    }\n",
       "\n",
       "    .dataframe tbody tr th {\n",
       "        vertical-align: top;\n",
       "    }\n",
       "\n",
       "    .dataframe thead th {\n",
       "        text-align: right;\n",
       "    }\n",
       "</style>\n",
       "<table border=\"1\" class=\"dataframe\">\n",
       "  <thead>\n",
       "    <tr style=\"text-align: right;\">\n",
       "      <th></th>\n",
       "      <th>Width</th>\n",
       "      <th>Height</th>\n",
       "      <th>Roi.X1</th>\n",
       "      <th>Roi.Y1</th>\n",
       "      <th>Roi.X2</th>\n",
       "      <th>Roi.Y2</th>\n",
       "      <th>ClassId</th>\n",
       "      <th>Path</th>\n",
       "    </tr>\n",
       "  </thead>\n",
       "  <tbody>\n",
       "    <tr>\n",
       "      <th>0</th>\n",
       "      <td>27</td>\n",
       "      <td>26</td>\n",
       "      <td>5</td>\n",
       "      <td>5</td>\n",
       "      <td>22</td>\n",
       "      <td>20</td>\n",
       "      <td>20</td>\n",
       "      <td>Train/20/00020_00000_00000.png</td>\n",
       "    </tr>\n",
       "    <tr>\n",
       "      <th>1</th>\n",
       "      <td>28</td>\n",
       "      <td>27</td>\n",
       "      <td>5</td>\n",
       "      <td>6</td>\n",
       "      <td>23</td>\n",
       "      <td>22</td>\n",
       "      <td>20</td>\n",
       "      <td>Train/20/00020_00000_00001.png</td>\n",
       "    </tr>\n",
       "    <tr>\n",
       "      <th>2</th>\n",
       "      <td>29</td>\n",
       "      <td>26</td>\n",
       "      <td>6</td>\n",
       "      <td>5</td>\n",
       "      <td>24</td>\n",
       "      <td>21</td>\n",
       "      <td>20</td>\n",
       "      <td>Train/20/00020_00000_00002.png</td>\n",
       "    </tr>\n",
       "    <tr>\n",
       "      <th>3</th>\n",
       "      <td>28</td>\n",
       "      <td>27</td>\n",
       "      <td>5</td>\n",
       "      <td>6</td>\n",
       "      <td>23</td>\n",
       "      <td>22</td>\n",
       "      <td>20</td>\n",
       "      <td>Train/20/00020_00000_00003.png</td>\n",
       "    </tr>\n",
       "    <tr>\n",
       "      <th>4</th>\n",
       "      <td>28</td>\n",
       "      <td>26</td>\n",
       "      <td>5</td>\n",
       "      <td>5</td>\n",
       "      <td>23</td>\n",
       "      <td>21</td>\n",
       "      <td>20</td>\n",
       "      <td>Train/20/00020_00000_00004.png</td>\n",
       "    </tr>\n",
       "  </tbody>\n",
       "</table>\n",
       "</div>"
      ],
      "text/plain": [
       "   Width  Height  Roi.X1  Roi.Y1  Roi.X2  Roi.Y2  ClassId  \\\n",
       "0     27      26       5       5      22      20       20   \n",
       "1     28      27       5       6      23      22       20   \n",
       "2     29      26       6       5      24      21       20   \n",
       "3     28      27       5       6      23      22       20   \n",
       "4     28      26       5       5      23      21       20   \n",
       "\n",
       "                             Path  \n",
       "0  Train/20/00020_00000_00000.png  \n",
       "1  Train/20/00020_00000_00001.png  \n",
       "2  Train/20/00020_00000_00002.png  \n",
       "3  Train/20/00020_00000_00003.png  \n",
       "4  Train/20/00020_00000_00004.png  "
      ]
     },
     "execution_count": 3,
     "metadata": {},
     "output_type": "execute_result"
    }
   ],
   "source": [
    "train_df.head()"
   ]
  },
  {
   "cell_type": "code",
   "execution_count": 4,
   "metadata": {},
   "outputs": [
    {
     "data": {
      "text/html": [
       "<div>\n",
       "<style scoped>\n",
       "    .dataframe tbody tr th:only-of-type {\n",
       "        vertical-align: middle;\n",
       "    }\n",
       "\n",
       "    .dataframe tbody tr th {\n",
       "        vertical-align: top;\n",
       "    }\n",
       "\n",
       "    .dataframe thead th {\n",
       "        text-align: right;\n",
       "    }\n",
       "</style>\n",
       "<table border=\"1\" class=\"dataframe\">\n",
       "  <thead>\n",
       "    <tr style=\"text-align: right;\">\n",
       "      <th></th>\n",
       "      <th>Width</th>\n",
       "      <th>Height</th>\n",
       "      <th>Roi.X1</th>\n",
       "      <th>Roi.Y1</th>\n",
       "      <th>Roi.X2</th>\n",
       "      <th>Roi.Y2</th>\n",
       "      <th>ClassId</th>\n",
       "      <th>Path</th>\n",
       "    </tr>\n",
       "  </thead>\n",
       "  <tbody>\n",
       "    <tr>\n",
       "      <th>0</th>\n",
       "      <td>53</td>\n",
       "      <td>54</td>\n",
       "      <td>6</td>\n",
       "      <td>5</td>\n",
       "      <td>48</td>\n",
       "      <td>49</td>\n",
       "      <td>16</td>\n",
       "      <td>Test/00000.png</td>\n",
       "    </tr>\n",
       "    <tr>\n",
       "      <th>1</th>\n",
       "      <td>42</td>\n",
       "      <td>45</td>\n",
       "      <td>5</td>\n",
       "      <td>5</td>\n",
       "      <td>36</td>\n",
       "      <td>40</td>\n",
       "      <td>1</td>\n",
       "      <td>Test/00001.png</td>\n",
       "    </tr>\n",
       "    <tr>\n",
       "      <th>2</th>\n",
       "      <td>48</td>\n",
       "      <td>52</td>\n",
       "      <td>6</td>\n",
       "      <td>6</td>\n",
       "      <td>43</td>\n",
       "      <td>47</td>\n",
       "      <td>38</td>\n",
       "      <td>Test/00002.png</td>\n",
       "    </tr>\n",
       "    <tr>\n",
       "      <th>3</th>\n",
       "      <td>27</td>\n",
       "      <td>29</td>\n",
       "      <td>5</td>\n",
       "      <td>5</td>\n",
       "      <td>22</td>\n",
       "      <td>24</td>\n",
       "      <td>33</td>\n",
       "      <td>Test/00003.png</td>\n",
       "    </tr>\n",
       "    <tr>\n",
       "      <th>4</th>\n",
       "      <td>60</td>\n",
       "      <td>57</td>\n",
       "      <td>5</td>\n",
       "      <td>5</td>\n",
       "      <td>55</td>\n",
       "      <td>52</td>\n",
       "      <td>11</td>\n",
       "      <td>Test/00004.png</td>\n",
       "    </tr>\n",
       "  </tbody>\n",
       "</table>\n",
       "</div>"
      ],
      "text/plain": [
       "   Width  Height  Roi.X1  Roi.Y1  Roi.X2  Roi.Y2  ClassId            Path\n",
       "0     53      54       6       5      48      49       16  Test/00000.png\n",
       "1     42      45       5       5      36      40        1  Test/00001.png\n",
       "2     48      52       6       6      43      47       38  Test/00002.png\n",
       "3     27      29       5       5      22      24       33  Test/00003.png\n",
       "4     60      57       5       5      55      52       11  Test/00004.png"
      ]
     },
     "execution_count": 4,
     "metadata": {},
     "output_type": "execute_result"
    }
   ],
   "source": [
    "test_df.head()"
   ]
  },
  {
   "cell_type": "code",
   "execution_count": 5,
   "metadata": {},
   "outputs": [],
   "source": [
    "# Filter the columns out\n",
    "train_df = train_df[[\"Path\", \"ClassId\"]]\n",
    "test_df = test_df[[\"Path\", \"ClassId\"]]"
   ]
  },
  {
   "cell_type": "code",
   "execution_count": 6,
   "metadata": {},
   "outputs": [
    {
     "data": {
      "text/plain": [
       "Path       0\n",
       "ClassId    0\n",
       "dtype: int64"
      ]
     },
     "execution_count": 6,
     "metadata": {},
     "output_type": "execute_result"
    }
   ],
   "source": [
    "# Check for missing values\n",
    "train_df.isna().sum()"
   ]
  },
  {
   "cell_type": "code",
   "execution_count": 7,
   "metadata": {},
   "outputs": [],
   "source": [
    "# Addthe full path to the images\n",
    "train_df[\"Path\"] = \"gtsrb-german-traffic-sign/\" + train_df[\"Path\"]\n",
    "test_df[\"Path\"] = \"gtsrb-german-traffic-sign/\" + test_df[\"Path\"]"
   ]
  },
  {
   "cell_type": "code",
   "execution_count": null,
   "metadata": {},
   "outputs": [
    {
     "data": {
      "text/html": [
       "<div>\n",
       "<style scoped>\n",
       "    .dataframe tbody tr th:only-of-type {\n",
       "        vertical-align: middle;\n",
       "    }\n",
       "\n",
       "    .dataframe tbody tr th {\n",
       "        vertical-align: top;\n",
       "    }\n",
       "\n",
       "    .dataframe thead th {\n",
       "        text-align: right;\n",
       "    }\n",
       "</style>\n",
       "<table border=\"1\" class=\"dataframe\">\n",
       "  <thead>\n",
       "    <tr style=\"text-align: right;\">\n",
       "      <th></th>\n",
       "      <th>Path</th>\n",
       "      <th>ClassId</th>\n",
       "    </tr>\n",
       "  </thead>\n",
       "  <tbody>\n",
       "    <tr>\n",
       "      <th>0</th>\n",
       "      <td>gtsrb-german-traffic-sign/Train/20/00020_00000...</td>\n",
       "      <td>20</td>\n",
       "    </tr>\n",
       "    <tr>\n",
       "      <th>1</th>\n",
       "      <td>gtsrb-german-traffic-sign/Train/20/00020_00000...</td>\n",
       "      <td>20</td>\n",
       "    </tr>\n",
       "  </tbody>\n",
       "</table>\n",
       "</div>"
      ],
      "text/plain": [
       "                                                Path  ClassId\n",
       "0  gtsrb-german-traffic-sign/Train/20/00020_00000...       20\n",
       "1  gtsrb-german-traffic-sign/Train/20/00020_00000...       20"
      ]
     },
     "execution_count": 8,
     "metadata": {},
     "output_type": "execute_result"
    }
   ],
   "source": [
    "train_df.head(2)"
   ]
  },
  {
   "cell_type": "code",
   "execution_count": 35,
   "metadata": {},
   "outputs": [],
   "source": [
    "# Read the labels\n",
    "with open (\"../src/preprocess/labels.json\", \"r\") as file:\n",
    "    label_names = json.load(file)"
   ]
  },
  {
   "cell_type": "code",
   "execution_count": 46,
   "metadata": {},
   "outputs": [
    {
     "data": {
      "text/plain": [
       "'Speed limit(20km/h)'"
      ]
     },
     "execution_count": 46,
     "metadata": {},
     "output_type": "execute_result"
    }
   ],
   "source": [
    "label_names['labels']['0']"
   ]
  },
  {
   "cell_type": "code",
   "execution_count": 56,
   "metadata": {},
   "outputs": [
    {
     "name": "stdout",
     "output_type": "stream",
     "text": [
      "image shape : (47, 46, 3)\n",
      "Image label: No passing for vehicles over 3.5 metric tons\n"
     ]
    },
    {
     "data": {
      "text/plain": [
       "<matplotlib.image.AxesImage at 0x7f6f54cd3ce0>"
      ]
     },
     "execution_count": 56,
     "metadata": {},
     "output_type": "execute_result"
    },
    {
     "data": {
      "image/png": "[encoded data removed]",
      "text/plain": [
       "<Figure size 640x480 with 1 Axes>"
      ]
     },
     "metadata": {},
     "output_type": "display_data"
    }
   ],
   "source": [
    "# Visualization\n",
    "random_img_path = random.choice(train_df[\"Path\"])\n",
    "img_path = \"../data/raw/\" + random_img_path\n",
    "\n",
    "img = plt.imread(img_path)\n",
    "print(f'image shape : {img.shape}')\n",
    "print(f'Image label: {label_names['labels'][str(train_df[train_df[\"Path\"] == random_img_path][\"ClassId\"].values[0])]}')\n",
    "plt.imshow(plt.imread(img_path))"
   ]
  },
  {
   "cell_type": "code",
   "execution_count": 57,
   "metadata": {},
   "outputs": [
    {
     "data": {
      "text/plain": [
       "(25, 25, 3)"
      ]
     },
     "execution_count": 57,
     "metadata": {},
     "output_type": "execute_result"
    }
   ],
   "source": [
    "# Check the min shape and the max shape\n",
    "train_df[\"Path\"].apply(lambda x: plt.imread(\"../data/raw/\" + x).shape).min()"
   ]
  },
  {
   "cell_type": "markdown",
   "metadata": {},
   "source": [
    "# Preprocessing the images"
   ]
  },
  {
   "cell_type": "code",
   "execution_count": 130,
   "metadata": {},
   "outputs": [],
   "source": [
    "from sklearn.model_selection import train_test_split\n",
    "\n",
    "import torch\n",
    "from PIL import Image\n",
    "from torchvision import datasets, transforms\n",
    "from torch.utils.data import DataLoader"
   ]
  },
  {
   "cell_type": "code",
   "execution_count": 407,
   "metadata": {},
   "outputs": [],
   "source": [
    "# Preprocess the images\n",
    "transform = transforms.Compose([\n",
    "    transforms.Resize((32, 32)),\n",
    "    transforms.ToTensor(),\n",
    "    transforms.Normalize(mean=[0.485, 0.456, 0.406], std=[0.229, 0.224, 0.225])\n",
    "])\n",
    "\n",
    "# Load the data\n",
    "train_data = datasets.ImageFolder(\"../data/raw/gtsrb-german-traffic-sign/Train\", transform=transform)\n",
    "train, valid = train_test_split(train_data, test_size=0.2, random_state=42)\n",
    "\n",
    "# Create the dataloaders\n",
    "train_loader = DataLoader(train, batch_size=32, shuffle=True, pin_memory=True)\n",
    "valid_loader = DataLoader(valid, batch_size=32, pin_memory=True)"
   ]
  },
  {
   "cell_type": "code",
   "execution_count": 408,
   "metadata": {},
   "outputs": [],
   "source": [
    "class CustomTestDataset():\n",
    "    def __init__(self, data, transform=None):\n",
    "        # self.data = pd.read_csv(PATH)\n",
    "        self.data = data\n",
    "        self.transform = transform\n",
    "\n",
    "    def __len__(self):\n",
    "        return len(self.data)\n",
    "\n",
    "    def __getitem__(self, idx):\n",
    "        # Load the img and its label\n",
    "        img_path = self.data.iloc[idx, 0]\n",
    "        label = self.data.iloc[idx, 1]\n",
    "\n",
    "        # Open the imgage to convert it to a tensor\n",
    "        img_path = \"../data/raw/\" + img_path # this is only for the notebook\n",
    "        image = Image.open(img_path).convert(\"RGB\")\n",
    "\n",
    "        # Apply the transform\n",
    "        if self.transform:\n",
    "            image = self.transform(image)\n",
    "\n",
    "        return image, torch.tensor(label, dtype=torch.long)"
   ]
  },
  {
   "cell_type": "code",
   "execution_count": 409,
   "metadata": {},
   "outputs": [
    {
     "data": {
      "text/html": [
       "<div>\n",
       "<style scoped>\n",
       "    .dataframe tbody tr th:only-of-type {\n",
       "        vertical-align: middle;\n",
       "    }\n",
       "\n",
       "    .dataframe tbody tr th {\n",
       "        vertical-align: top;\n",
       "    }\n",
       "\n",
       "    .dataframe thead th {\n",
       "        text-align: right;\n",
       "    }\n",
       "</style>\n",
       "<table border=\"1\" class=\"dataframe\">\n",
       "  <thead>\n",
       "    <tr style=\"text-align: right;\">\n",
       "      <th></th>\n",
       "      <th>Path</th>\n",
       "      <th>ClassId</th>\n",
       "    </tr>\n",
       "  </thead>\n",
       "  <tbody>\n",
       "    <tr>\n",
       "      <th>3445</th>\n",
       "      <td>gtsrb-german-traffic-sign/Test/03445.png</td>\n",
       "      <td>1</td>\n",
       "    </tr>\n",
       "  </tbody>\n",
       "</table>\n",
       "</div>"
      ],
      "text/plain": [
       "                                          Path  ClassId\n",
       "3445  gtsrb-german-traffic-sign/Test/03445.png        1"
      ]
     },
     "execution_count": 409,
     "metadata": {},
     "output_type": "execute_result"
    }
   ],
   "source": [
    "test_df[test_df.Path == \"gtsrb-german-traffic-sign/Test/03445.png\"]"
   ]
  },
  {
   "cell_type": "code",
   "execution_count": 410,
   "metadata": {},
   "outputs": [],
   "source": [
    "test = CustomTestDataset(test_df, transform=transform)\n",
    "test_loader = DataLoader(test, batch_size=32, shuffle=True)"
   ]
  },
  {
   "cell_type": "code",
   "execution_count": 411,
   "metadata": {},
   "outputs": [],
   "source": [
    "img, label = next(iter(test_loader))"
   ]
  },
  {
   "cell_type": "code",
   "execution_count": 412,
   "metadata": {},
   "outputs": [],
   "source": [
    "X_train, y_train = next(iter(train_loader))\n",
    "X_valid, y_valid = next(iter(valid_loader))\n",
    "X_test, y_test = next(iter(test_loader))"
   ]
  },
  {
   "cell_type": "code",
   "execution_count": 413,
   "metadata": {},
   "outputs": [],
   "source": [
    "def get_batches(loader):\n",
    "    for data, label in loader:\n",
    "        yield data.numpy(), label.numpy()"
   ]
  },
  {
   "cell_type": "code",
   "execution_count": 414,
   "metadata": {},
   "outputs": [],
   "source": [
    "train_data = get_batches(train_loader)\n",
    "valid_data = get_batches(valid_loader)\n",
    "test_data = get_batches(test_loader)"
   ]
  },
  {
   "cell_type": "code",
   "execution_count": 356,
   "metadata": {},
   "outputs": [
    {
     "data": {
      "text/plain": [
       "torch.Size([3, 32, 32])"
      ]
     },
     "execution_count": 356,
     "metadata": {},
     "output_type": "execute_result"
    }
   ],
   "source": [
    "# Check the shape (channels, height, width)\n",
    "X_train[0].shape"
   ]
  },
  {
   "cell_type": "code",
   "execution_count": 358,
   "metadata": {},
   "outputs": [
    {
     "data": {
      "text/plain": [
       "torch.Size([32, 32, 3])"
      ]
     },
     "execution_count": 358,
     "metadata": {},
     "output_type": "execute_result"
    }
   ],
   "source": [
    "# we need shape (height, width, channels) to plot the image\n",
    "X_train[0].permute(1,2,0).shape"
   ]
  },
  {
   "cell_type": "code",
   "execution_count": 359,
   "metadata": {},
   "outputs": [
    {
     "data": {
      "text/plain": [
       "'Speed limit(20km/h)'"
      ]
     },
     "execution_count": 359,
     "metadata": {},
     "output_type": "execute_result"
    }
   ],
   "source": [
    "label_names['labels']['0']"
   ]
  },
  {
   "cell_type": "code",
   "execution_count": 209,
   "metadata": {},
   "outputs": [
    {
     "name": "stderr",
     "output_type": "stream",
     "text": [
      "Clipping input data to the valid range for imshow with RGB data ([0..1] for floats or [0..255] for integers). Got range [-1.7411594..2.64].\n"
     ]
    },
    {
     "data": {
      "text/plain": [
       "<matplotlib.image.AxesImage at 0x7f6cba1a6a50>"
      ]
     },
     "execution_count": 209,
     "metadata": {},
     "output_type": "execute_result"
    },
    {
     "data": {
      "image/png": "[encoded data removed]",
      "text/plain": [
       "<Figure size 640x480 with 1 Axes>"
      ]
     },
     "metadata": {},
     "output_type": "display_data"
    }
   ],
   "source": [
    "plt.imshow(X_train[1].permute(1,2,0))"
   ]
  },
  {
   "cell_type": "code",
   "execution_count": 210,
   "metadata": {},
   "outputs": [],
   "source": [
    "# Convert the tensors to numpy arrays (for JAX)\n",
    "X_train, y_train, X_valid, y_valid, X_test, y_test = X_train.numpy(), y_train.numpy(), X_valid.numpy(), y_valid.numpy(), X_test.numpy(), y_test.numpy()"
   ]
  },
  {
   "cell_type": "markdown",
   "metadata": {},
   "source": [
    "# Training the model"
   ]
  },
  {
   "cell_type": "code",
   "execution_count": 376,
   "metadata": {},
   "outputs": [
    {
     "data": {
      "text/plain": [
       "[tensor([[[[-1.4329, -1.5699, -1.6727,  ..., -1.7240, -1.8268, -1.8439],\n",
       "           [-1.3302, -1.4843, -1.6384,  ..., -1.7412, -1.8439, -1.8610],\n",
       "           [-1.2617, -1.4329, -1.6213,  ..., -1.7925, -1.8610, -1.8610],\n",
       "           ...,\n",
       "           [-1.3987, -1.3815, -1.3473,  ..., -1.7069, -1.7412, -1.7583],\n",
       "           [-1.3815, -1.3987, -1.3815,  ..., -1.7069, -1.7240, -1.7240],\n",
       "           [-1.3302, -1.3987, -1.4158,  ..., -1.7754, -1.7583, -1.7412]],\n",
       " \n",
       "          [[-1.4405, -1.5630, -1.6681,  ..., -1.6681, -1.7556, -1.7731],\n",
       "           [-1.3354, -1.4755, -1.6155,  ..., -1.6856, -1.7731, -1.7731],\n",
       "           [-1.2829, -1.4230, -1.5980,  ..., -1.7381, -1.7731, -1.7556],\n",
       "           ...,\n",
       "           [-1.3354, -1.3179, -1.3004,  ..., -1.6331, -1.6506, -1.6506],\n",
       "           [-1.3004, -1.3179, -1.2829,  ..., -1.6155, -1.6155, -1.6155],\n",
       "           [-1.2479, -1.3004, -1.3004,  ..., -1.6681, -1.6506, -1.6331]],\n",
       " \n",
       "          [[-1.2293, -1.3339, -1.4384,  ..., -1.3861, -1.4559, -1.4907],\n",
       "           [-1.1421, -1.2641, -1.3687,  ..., -1.4210, -1.4907, -1.4907],\n",
       "           [-1.0724, -1.1944, -1.3513,  ..., -1.4733, -1.4907, -1.4907],\n",
       "           ...,\n",
       "           [-1.0550, -1.0376, -1.0550,  ..., -1.3861, -1.4210, -1.4036],\n",
       "           [-1.0376, -1.0376, -1.0376,  ..., -1.3687, -1.3861, -1.3687],\n",
       "           [-1.0027, -1.0724, -1.0724,  ..., -1.4210, -1.4036, -1.3687]]],\n",
       " \n",
       " \n",
       "         [[[ 1.2214,  0.9988,  1.3755,  ..., -1.3987, -1.5699, -1.3644],\n",
       "           [ 0.1597,  0.6906,  0.8104,  ..., -1.2103, -1.3644, -0.9363],\n",
       "           [ 0.6392,  1.2557,  1.8550,  ..., -1.0733, -1.0733, -0.6623],\n",
       "           ...,\n",
       "           [-0.4568, -0.6281, -0.6965,  ...,  0.4851,  0.2624, -0.0972],\n",
       "           [ 0.7933, -0.8507, -1.0219,  ..., -0.1486, -0.7993, -0.8335],\n",
       "           [-0.0287, -0.9192, -0.9534,  ..., -1.2445, -1.0048, -1.0219]],\n",
       " \n",
       "          [[ 1.5707,  1.2731,  1.6057,  ..., -1.3880, -1.5105, -1.3179],\n",
       "           [ 0.4328,  0.9930,  1.0805,  ..., -1.2479, -1.3179, -0.8627],\n",
       "           [ 0.4853,  1.3782,  2.0084,  ..., -1.0903, -0.9678, -0.5476],\n",
       "           ...,\n",
       "           [-0.3725, -0.3725, -0.4076,  ..., -0.0224, -0.1625, -0.4426],\n",
       "           [ 0.7129, -0.6702, -0.6352,  ..., -0.4951, -0.8803, -0.8978],\n",
       "           [ 0.2227, -0.6176, -0.6176,  ..., -1.1429, -0.8452, -0.8102]],\n",
       " \n",
       "          [[ 0.4265, -0.1312,  0.2522,  ..., -1.3164, -1.3861, -1.2293],\n",
       "           [-0.3578, -0.1487, -0.2881,  ..., -1.2293, -1.2816, -0.9504],\n",
       "           [-0.1487,  0.9494,  1.3502,  ..., -1.1421, -1.1073, -0.8110],\n",
       "           ...,\n",
       "           [-0.8458, -0.6367, -0.7238,  ..., -0.2184, -0.3230, -0.5670],\n",
       "           [-0.0790, -1.0376, -0.9678,  ..., -0.7413, -0.9504, -0.9678],\n",
       "           [-0.7761, -1.1247, -0.9504,  ..., -1.2990, -1.1073, -1.0550]]],\n",
       " \n",
       " \n",
       "         [[[ 0.6563,  0.6563,  0.6221,  ...,  0.6563,  0.6563,  0.6392],\n",
       "           [ 0.6049,  0.5878,  0.6049,  ...,  0.6221,  0.6392,  0.6049],\n",
       "           [ 0.6049,  0.5707,  0.5878,  ...,  0.6221,  0.6392,  0.6049],\n",
       "           ...,\n",
       "           [ 0.4851,  0.5022,  0.5193,  ..., -0.2342, -0.1828, -0.3541],\n",
       "           [ 0.5193,  0.5193,  0.4851,  ..., -0.2684, -0.2684, -0.4739],\n",
       "           [ 0.5022,  0.5193,  0.4679,  ..., -0.2856, -0.4568, -0.6281]],\n",
       " \n",
       "          [[ 1.4832,  1.4832,  1.5182,  ...,  1.5182,  1.5357,  1.5357],\n",
       "           [ 1.5007,  1.4832,  1.5182,  ...,  1.4832,  1.5007,  1.5182],\n",
       "           [ 1.5007,  1.5007,  1.5007,  ...,  1.4657,  1.4657,  1.4832],\n",
       "           ...,\n",
       "           [ 1.3081,  1.3256,  1.3431,  ...,  0.3978,  0.4678, -0.0399],\n",
       "           [ 1.3081,  1.3256,  1.3081,  ...,  0.3803,  0.3978, -0.1800],\n",
       "           [ 1.3081,  1.3256,  1.3081,  ...,  0.1352, -0.0574, -0.4776]],\n",
       " \n",
       "          [[ 2.6051,  2.6226,  2.6400,  ...,  2.6400,  2.6400,  2.6400],\n",
       "           [ 2.6226,  2.6226,  2.6226,  ...,  2.6226,  2.6400,  2.6400],\n",
       "           [ 2.6226,  2.6226,  2.6226,  ...,  2.6400,  2.6226,  2.6400],\n",
       "           ...,\n",
       "           [ 2.5529,  2.5877,  2.6226,  ...,  0.8448,  1.3502,  0.8971],\n",
       "           [ 2.5703,  2.5877,  2.6051,  ...,  0.8274,  1.0191,  0.5659],\n",
       "           [ 2.6226,  2.5877,  2.5703,  ...,  0.5136,  0.1999, -0.0615]]],\n",
       " \n",
       " \n",
       "         ...,\n",
       " \n",
       " \n",
       "         [[[-1.9124, -1.9124, -1.9124,  ..., -1.9124, -1.9124, -1.9124],\n",
       "           [-1.8953, -1.9124, -1.8953,  ..., -1.9124, -1.9295, -1.9295],\n",
       "           [-1.8953, -1.8953, -1.8953,  ..., -1.9295, -1.9124, -1.9124],\n",
       "           ...,\n",
       "           [-1.9124, -1.9295, -1.8953,  ..., -1.9467, -1.9467, -1.9467],\n",
       "           [-1.9124, -1.9295, -1.9124,  ..., -1.9295, -1.9295, -1.9295],\n",
       "           [-1.8953, -1.9124, -1.9124,  ..., -1.9295, -1.9295, -1.9295]],\n",
       " \n",
       "          [[-1.8256, -1.8256, -1.8256,  ..., -1.8606, -1.8431, -1.8431],\n",
       "           [-1.8081, -1.8256, -1.8081,  ..., -1.8606, -1.8606, -1.8606],\n",
       "           [-1.8256, -1.8256, -1.8256,  ..., -1.8782, -1.8606, -1.8606],\n",
       "           ...,\n",
       "           [-1.8431, -1.8606, -1.8431,  ..., -1.8782, -1.8782, -1.8782],\n",
       "           [-1.8431, -1.8606, -1.8606,  ..., -1.8606, -1.8606, -1.8606],\n",
       "           [-1.8431, -1.8606, -1.8606,  ..., -1.8782, -1.8782, -1.8782]],\n",
       " \n",
       "          [[-1.5604, -1.5430, -1.5604,  ..., -1.5779, -1.5779, -1.5779],\n",
       "           [-1.5430, -1.5430, -1.5256,  ..., -1.5604, -1.5953, -1.6127],\n",
       "           [-1.5604, -1.5430, -1.5604,  ..., -1.5953, -1.5953, -1.5953],\n",
       "           ...,\n",
       "           [-1.5604, -1.5953, -1.5604,  ..., -1.6127, -1.5953, -1.5953],\n",
       "           [-1.5604, -1.5779, -1.5779,  ..., -1.5953, -1.5779, -1.5779],\n",
       "           [-1.5779, -1.5779, -1.5779,  ..., -1.6127, -1.6127, -1.6127]]],\n",
       " \n",
       " \n",
       "         [[[-1.4500, -1.6042, -1.7925,  ..., -1.6898, -1.6727, -1.5870],\n",
       "           [-1.5528, -1.6727, -1.7754,  ..., -1.7069, -1.6384, -1.5528],\n",
       "           [-1.5014, -1.6042, -1.7240,  ..., -1.7069, -1.7069, -1.6042],\n",
       "           ...,\n",
       "           [-1.7412, -1.7583, -1.7412,  ..., -1.7069, -1.7412, -1.7583],\n",
       "           [-1.6213, -1.7240, -1.7925,  ..., -1.7240, -1.7583, -1.7583],\n",
       "           [-1.5699, -1.6727, -1.8268,  ..., -1.7412, -1.7412, -1.7754]],\n",
       " \n",
       "          [[-1.3179, -1.4755, -1.6681,  ..., -1.5980, -1.5805, -1.5280],\n",
       "           [-1.4230, -1.5630, -1.6856,  ..., -1.6155, -1.5455, -1.4930],\n",
       "           [-1.3529, -1.5105, -1.6856,  ..., -1.6155, -1.5980, -1.5280],\n",
       "           ...,\n",
       "           [-1.6331, -1.6856, -1.7031,  ..., -1.6155, -1.6681, -1.6681],\n",
       "           [-1.5455, -1.6506, -1.7031,  ..., -1.6331, -1.6681, -1.6681],\n",
       "           [-1.5630, -1.5980, -1.7031,  ..., -1.6506, -1.6331, -1.6681]],\n",
       " \n",
       "          [[-0.9504, -1.0550, -1.3164,  ..., -1.2990, -1.3164, -1.2990],\n",
       "           [-1.0724, -1.2119, -1.3861,  ..., -1.3513, -1.2990, -1.2641],\n",
       "           [-1.0201, -1.1073, -1.3687,  ..., -1.3339, -1.3687, -1.3164],\n",
       "           ...,\n",
       "           [-1.3687, -1.4384, -1.4384,  ..., -1.3339, -1.4036, -1.4210],\n",
       "           [-1.2990, -1.3687, -1.4210,  ..., -1.3339, -1.3861, -1.3861],\n",
       "           [-1.2990, -1.3164, -1.4210,  ..., -1.3687, -1.3513, -1.3861]]],\n",
       " \n",
       " \n",
       "         [[[-1.2274, -1.0904, -1.0390,  ..., -1.2274, -0.7479, -0.7822],\n",
       "           [-1.1418, -1.0904, -1.1075,  ..., -1.2274, -0.6965, -0.6794],\n",
       "           [-1.1075, -0.9877, -1.0048,  ..., -1.1932, -0.5082, -0.4397],\n",
       "           ...,\n",
       "           [ 0.9474,  0.9132,  0.8276,  ...,  0.8961,  0.8276,  0.8618],\n",
       "           [ 0.4851,  0.5707,  0.6563,  ...,  1.9920,  1.7352,  1.5810],\n",
       "           [ 0.5707,  0.5707,  0.6221,  ...,  2.2489,  2.2489,  2.2318]],\n",
       " \n",
       "          [[-0.9153, -0.7927, -0.7227,  ..., -1.2304, -0.8627, -0.7227],\n",
       "           [-0.8277, -0.7577, -0.7752,  ..., -1.2129, -0.8277, -0.6352],\n",
       "           [-0.8102, -0.6877, -0.7052,  ..., -1.1779, -0.7577, -0.4776],\n",
       "           ...,\n",
       "           [ 1.1856,  1.1331,  1.0280,  ...,  1.0805,  1.0280,  1.0630],\n",
       "           [ 0.7304,  0.7654,  0.8354,  ...,  2.2010,  2.0084,  1.9384],\n",
       "           [ 0.7829,  0.8004,  0.8004,  ...,  2.4286,  2.4286,  2.4286]],\n",
       " \n",
       "          [[-0.5147, -0.4450, -0.4101,  ..., -1.0027, -0.7064, -0.4624],\n",
       "           [-0.4450, -0.4101, -0.4275,  ..., -0.9853, -0.7413, -0.3927],\n",
       "           [-0.3927, -0.3404, -0.3753,  ..., -0.9678, -0.6890, -0.3055],\n",
       "           ...,\n",
       "           [ 1.5245,  1.4722,  1.3502,  ...,  1.4548,  1.3502,  1.2980],\n",
       "           [ 0.9842,  1.0191,  1.1237,  ...,  2.4657,  2.2566,  2.1694],\n",
       "           [ 1.0714,  1.0365,  1.0539,  ...,  2.6400,  2.6400,  2.6400]]]]),\n",
       " tensor([ 3, 15,  5, 12, 25,  1,  5, 14, 23, 24,  2, 29, 32, 16, 13, 41,  3, 23,\n",
       "         16,  5, 41, 10,  3, 32, 40,  3, 12, 22, 12, 39, 34, 33])]"
      ]
     },
     "execution_count": 376,
     "metadata": {},
     "output_type": "execute_result"
    }
   ],
   "source": [
    "next(iter(train_loader))"
   ]
  },
  {
   "cell_type": "code",
   "execution_count": 338,
   "metadata": {},
   "outputs": [
    {
     "data": {
      "text/plain": [
       "[CudaDevice(id=0)]"
      ]
     },
     "execution_count": 338,
     "metadata": {},
     "output_type": "execute_result"
    }
   ],
   "source": [
    "# Using Jax to train the model\n",
    "import numpy as np\n",
    "import matplotlib.pyplot as plt\n",
    "import jax\n",
    "from jax import numpy as jnp\n",
    "import optax\n",
    "from tqdm.auto import tqdm\n",
    "import flax\n",
    "from flax import linen as nn\n",
    "from flax.training import train_state\n",
    "\n",
    "jax.local_devices()"
   ]
  },
  {
   "cell_type": "code",
   "execution_count": 415,
   "metadata": {},
   "outputs": [],
   "source": [
    "num_class = len(label_names['labels'])\n",
    "\n",
    "class CNN(nn.Module):\n",
    "    @nn.compact\n",
    "    def __call__(self, x):\n",
    "        # (batch_size, height, width, channels)  # JAX Default (NHWC) (32, 32, 32, 3)\n",
    "        # (batch_size, channels, height, width)  # PyTorch Default (NCHW) (32, 3, 32, 32)\n",
    "        x = nn.Conv(features=32, kernel_size=(3, 3), kernel_init=nn.initializers.glorot_uniform())(x)\n",
    "        x = nn.relu(x)\n",
    "        # print(f\"Conv 1: {x.shape}\")\n",
    "        x = nn.Conv(features=64, kernel_size=(3, 3))(x)\n",
    "        x = nn.relu(x)\n",
    "        # print(f\"Conv 2: {x.shape}\")\n",
    "        # SAME\" Padding → Adds padding to preserve spatial size as much as possible.\n",
    "        x = nn.max_pool(x, window_shape=(2, 2), padding=\"SAME\") \n",
    "        # print(f\"Max_pooling 1: {x.shape}\")\n",
    "        x = nn.max_pool(x, window_shape=(2, 2), padding=\"SAME\")\n",
    "        # print(f\"Max_pooling 2: {x.shape}\")\n",
    "        x = nn.Conv(features=128, kernel_size=(3, 3))(x)\n",
    "        x = nn.relu(x)\n",
    "        # print(f\"Conv 3: {x.shape}\")\n",
    "        x = nn.Conv(features=64, kernel_size=(3, 3))(x)\n",
    "        x = nn.relu(x)\n",
    "        # print(f\"Conv 4: {x.shape}\")\n",
    "        x = nn.max_pool(x, window_shape=(2, 2), strides=(1, 1), padding=\"SAME\")\n",
    "        # print(f\"Max_pooling 3: {x.shape}\")\n",
    "        x = x.reshape((x.shape[0], -1))\n",
    "        # print(x.shape)\n",
    "        x = nn.Dense(features=128)(x)\n",
    "        x = nn.relu(x)\n",
    "        x = nn.Dense(num_class)(x)\n",
    "        return x"
   ]
  },
  {
   "cell_type": "code",
   "execution_count": 416,
   "metadata": {},
   "outputs": [
    {
     "data": {
      "text/plain": [
       "Array([[-0.0787003 ,  0.01451692,  0.11750038,  0.01783869, -0.05693348,\n",
       "        -0.04845878, -0.07644345, -0.02904444,  0.04981893,  0.03263966,\n",
       "        -0.02943162, -0.01088481, -0.09024361,  0.09057917,  0.00949449,\n",
       "         0.04771358,  0.06192609,  0.04573862,  0.04655391,  0.01153273,\n",
       "        -0.08767347,  0.08798464, -0.00479038, -0.07925534,  0.06522293,\n",
       "        -0.08873121,  0.02635204, -0.12824886,  0.03288998,  0.07589898,\n",
       "         0.0586621 , -0.05629456,  0.01169246,  0.00089401, -0.00859249,\n",
       "        -0.03198883,  0.03610817,  0.07428332, -0.01952838,  0.03830341,\n",
       "         0.04792878,  0.05729175, -0.0145327 ]], dtype=float32)"
      ]
     },
     "execution_count": 416,
     "metadata": {},
     "output_type": "execute_result"
    }
   ],
   "source": [
    "IMG_SIZE = 32\n",
    "key = jax.random.PRNGKey(42)\n",
    "key, subkey = jax.random.split(key, 2)\n",
    "\n",
    "# Initialize the model\n",
    "model = CNN()\n",
    "inp = jnp.ones((1, IMG_SIZE, IMG_SIZE, 3))\n",
    "params = model.init(subkey, inp)\n",
    "\n",
    "# Test the model\n",
    "model.apply(params, inp)"
   ]
  },
  {
   "cell_type": "code",
   "execution_count": 417,
   "metadata": {},
   "outputs": [],
   "source": [
    "# Training State for JAX CNN Model\n",
    "learning_rate = 1e-4\n",
    "\n",
    "optimizer = optax.adam(learning_rate=learning_rate)\n",
    "model_state = train_state.TrainState.create(\n",
    "    apply_fn=model.apply,\n",
    "    params=params,\n",
    "    tx=optimizer\n",
    ")"
   ]
  },
  {
   "cell_type": "code",
   "execution_count": 418,
   "metadata": {},
   "outputs": [
    {
     "name": "stdout",
     "output_type": "stream",
     "text": [
      "Logits shape: (32, 43)\n",
      "Labels shape after one-hot: (32, 43)\n"
     ]
    },
    {
     "data": {
      "text/plain": [
       "(Array(3.7920609, dtype=float32), Array(0.0625, dtype=float32))"
      ]
     },
     "execution_count": 418,
     "metadata": {},
     "output_type": "execute_result"
    }
   ],
   "source": [
    "# JAX Metrics\n",
    "def compute_loss_acc(state, params, batch):\n",
    "    input, labels = batch\n",
    "    input = jnp.transpose(input, (0, 2, 3, 1))  # Ensure NHWC format\n",
    "\n",
    "    logits = state.apply_fn(params, input)\n",
    "\n",
    "    # 🚨 Clip logits to prevent numerical instability\n",
    "    logits = jnp.clip(logits, -10, 10)\n",
    "\n",
    "    # Convert integer labels to one-hot inside the traced function\n",
    "    num_classes = logits.shape[-1]\n",
    "    labels = jax.nn.one_hot(labels, num_classes)  # Apply within JIT-traced context\n",
    "\n",
    "    print(\"Logits shape:\", logits.shape)  # Debugging\n",
    "    print(\"Labels shape after one-hot:\", labels.shape)\n",
    "\n",
    "    loss = optax.softmax_cross_entropy(logits, labels).mean()\n",
    "\n",
    "    # 🚨 Check for NaNs in loss\n",
    "    if jnp.isnan(loss):\n",
    "        print(\"🚨 NaN detected in loss!\")\n",
    "\n",
    "    acc = jnp.mean(jnp.argmax(logits, -1) == jnp.argmax(labels, -1))\n",
    "\n",
    "    return loss, acc\n",
    "\n",
    "# Test the function\n",
    "batch = next(iter(train_data))\n",
    "compute_loss_acc(model_state, model_state.params, batch)"
   ]
  },
  {
   "cell_type": "code",
   "execution_count": null,
   "metadata": {},
   "outputs": [],
   "source": [
    "# JAX CNN training\n",
    "@jax.jit\n",
    "def train_step(state, batch):\n",
    "    # Gradient function\n",
    "    grad_fn = jax.value_and_grad(\n",
    "        compute_loss_acc, # Function to calculate the loss\n",
    "        argnums=1, # Parameters are second argument of the function\n",
    "        has_aux=True # Function has additional outputs, here accuracy\n",
    "    )\n",
    "\n",
    "    # Determine gradients for current model, parameters and batch\n",
    "    (loss, acc), grads = grad_fn(state, state.params, batch)\n",
    "\n",
    "    # 🚨 Replace NaNs with zeros in gradients\n",
    "    grads = jax.tree_map(lambda g: jnp.nan_to_num(g, nan=0.0, posinf=1.0, neginf=-1.0), grads)\n",
    "\n",
    "    # 🚀 Apply Gradient Clipping\n",
    "    grads, _ = optax.clip_by_global_norm(grads, max_norm=1.0)\n",
    "\n",
    "    # Perform params update\n",
    "    state = state.apply_gradients(grads=grads)\n",
    "\n",
    "    # Return the updated state and the loss\n",
    "    return state, loss, acc\n",
    "\n",
    "@jax.jit\n",
    "def eval_step(state, batch):\n",
    "    # Determine the accuracy of the model\n",
    "    loss, acc = compute_loss_acc(state, state.params, batch)\n",
    "    return loss, acc\n",
    "\n",
    "train_acc, train_loss, test_acc, test_loss = [], [], [], []\n",
    "\n",
    "def train_model(state, train_loader, valid_loader, num_epochs=20):\n",
    "    # training loop\n",
    "    for epoch in range(num_epochs):\n",
    "        train_batch_loss, train_batch_acc = [], []\n",
    "        val_batch_loss, val_batch_acc = [], []\n",
    "\n",
    "        for train_batch in train_loader:\n",
    "            state, loss, acc = train_step(state, train_batch)\n",
    "            # 🚨 Move NaN Check OUTSIDE JIT\n",
    "            if np.isnan(loss):\n",
    "                print(\"🚨 NaN detected in loss!\")\n",
    "            train_batch_loss.append(loss)\n",
    "            train_batch_acc.append(acc)\n",
    "\n",
    "        for val_batch in valid_loader:\n",
    "            val_loss, val_acc = eval_step(state, val_batch)\n",
    "            val_batch_loss.append(val_loss)\n",
    "            val_batch_acc.append(val_acc)\n",
    "\n",
    "        # Calculate the mean loss and accuracy for the train\n",
    "        epoch_train_loss = np.mean(train_batch_loss)\n",
    "        epoch_train_acc = np.mean(train_batch_acc)\n",
    "\n",
    "        # Calculate the mean loss and accuracy for the validation set\n",
    "        epoch_val_loss = np.mean(val_batch_loss)\n",
    "        epoch_val_acc = np.mean(val_batch_acc)\n",
    "\n",
    "        # Append the loss and accuracy\n",
    "        train_acc.append(epoch_train_acc)\n",
    "        train_loss.append(epoch_train_loss)\n",
    "        test_acc.append(epoch_val_acc)\n",
    "        test_loss.append(epoch_val_loss)\n",
    "\n",
    "\n",
    "        print(\n",
    "            f\"Epoch: {epoch + 1}, loss: {epoch_train_loss}, acc: {epoch_train_acc}, val_loss: {epoch_val_loss}, val_acc: {epoch_val_acc}\"\n",
    "        )\n",
    "\n",
    "    return state"
   ]
  },
  {
   "cell_type": "code",
   "execution_count": 421,
   "metadata": {},
   "outputs": [
    {
     "name": "stdout",
     "output_type": "stream",
     "text": [
      "Logits shape: (32, 43)\n",
      "Labels shape after one-hot: (32, 43)\n"
     ]
    },
    {
     "ename": "TracerBoolConversionError",
     "evalue": "Attempted boolean conversion of traced array with shape bool[].\nThe error occurred while tracing the function train_step at /tmp/ipykernel_1465/2129499099.py:2 for jit. This concrete value was not available in Python because it depends on the values of the arguments state.params['params']['Conv_0']['bias'], state.params['params']['Conv_0']['kernel'], state.params['params']['Conv_1']['bias'], state.params['params']['Conv_1']['kernel'], state.params['params']['Conv_2']['bias'], state.params['params']['Conv_2']['kernel'], state.params['params']['Conv_3']['bias'], state.params['params']['Conv_3']['kernel'], state.params['params']['Dense_0']['bias'], state.params['params']['Dense_0']['kernel'], state.params['params']['Dense_1']['bias'], state.params['params']['Dense_1']['kernel'], batch[0], and batch[1].\nSee https://jax.readthedocs.io/en/latest/errors.html#jax.errors.TracerBoolConversionError",
     "output_type": "error",
     "traceback": [
      "\u001b[0;31m---------------------------------------------------------------------------\u001b[0m",
      "\u001b[0;31mTracerBoolConversionError\u001b[0m                 Traceback (most recent call last)",
      "Cell \u001b[0;32mIn[421], line 1\u001b[0m\n\u001b[0;32m----> 1\u001b[0m \u001b[43mtrain_model\u001b[49m\u001b[43m(\u001b[49m\u001b[43mmodel_state\u001b[49m\u001b[43m,\u001b[49m\u001b[43m \u001b[49m\u001b[43mtrain_data\u001b[49m\u001b[43m,\u001b[49m\u001b[43m \u001b[49m\u001b[43mvalid_data\u001b[49m\u001b[43m,\u001b[49m\u001b[43m \u001b[49m\u001b[43mnum_epochs\u001b[49m\u001b[38;5;241;43m=\u001b[39;49m\u001b[38;5;241;43m200\u001b[39;49m\u001b[43m)\u001b[49m\n",
      "Cell \u001b[0;32mIn[420], line 41\u001b[0m, in \u001b[0;36mtrain_model\u001b[0;34m(state, train_loader, valid_loader, num_epochs)\u001b[0m\n\u001b[1;32m     38\u001b[0m val_batch_loss, val_batch_acc \u001b[38;5;241m=\u001b[39m [], []\n\u001b[1;32m     40\u001b[0m \u001b[38;5;28;01mfor\u001b[39;00m train_batch \u001b[38;5;129;01min\u001b[39;00m train_loader:\n\u001b[0;32m---> 41\u001b[0m     state, loss, acc \u001b[38;5;241m=\u001b[39m \u001b[43mtrain_step\u001b[49m\u001b[43m(\u001b[49m\u001b[43mstate\u001b[49m\u001b[43m,\u001b[49m\u001b[43m \u001b[49m\u001b[43mtrain_batch\u001b[49m\u001b[43m)\u001b[49m\n\u001b[1;32m     42\u001b[0m     train_batch_loss\u001b[38;5;241m.\u001b[39mappend(loss)\n\u001b[1;32m     43\u001b[0m     train_batch_acc\u001b[38;5;241m.\u001b[39mappend(acc)\n",
      "    \u001b[0;31m[... skipping hidden 13 frame]\u001b[0m\n",
      "Cell \u001b[0;32mIn[420], line 12\u001b[0m, in \u001b[0;36mtrain_step\u001b[0;34m(state, batch)\u001b[0m\n\u001b[1;32m      5\u001b[0m grad_fn \u001b[38;5;241m=\u001b[39m jax\u001b[38;5;241m.\u001b[39mvalue_and_grad(\n\u001b[1;32m      6\u001b[0m     compute_loss_acc, \u001b[38;5;66;03m# Function to calculate the loss\u001b[39;00m\n\u001b[1;32m      7\u001b[0m     argnums\u001b[38;5;241m=\u001b[39m\u001b[38;5;241m1\u001b[39m, \u001b[38;5;66;03m# Parameters are second argument of the function\u001b[39;00m\n\u001b[1;32m      8\u001b[0m     has_aux\u001b[38;5;241m=\u001b[39m\u001b[38;5;28;01mTrue\u001b[39;00m \u001b[38;5;66;03m# Function has additional outputs, here accuracy\u001b[39;00m\n\u001b[1;32m      9\u001b[0m )\n\u001b[1;32m     11\u001b[0m \u001b[38;5;66;03m# Determine gradients for current model, parameters and batch\u001b[39;00m\n\u001b[0;32m---> 12\u001b[0m (loss, acc), grads \u001b[38;5;241m=\u001b[39m \u001b[43mgrad_fn\u001b[49m\u001b[43m(\u001b[49m\u001b[43mstate\u001b[49m\u001b[43m,\u001b[49m\u001b[43m \u001b[49m\u001b[43mstate\u001b[49m\u001b[38;5;241;43m.\u001b[39;49m\u001b[43mparams\u001b[49m\u001b[43m,\u001b[49m\u001b[43m \u001b[49m\u001b[43mbatch\u001b[49m\u001b[43m)\u001b[49m\n\u001b[1;32m     14\u001b[0m \u001b[38;5;66;03m# 🚨 Replace NaNs with zeros in gradients\u001b[39;00m\n\u001b[1;32m     15\u001b[0m grads \u001b[38;5;241m=\u001b[39m jax\u001b[38;5;241m.\u001b[39mtree_map(\u001b[38;5;28;01mlambda\u001b[39;00m g: jnp\u001b[38;5;241m.\u001b[39mnan_to_num(g, nan\u001b[38;5;241m=\u001b[39m\u001b[38;5;241m0.0\u001b[39m, posinf\u001b[38;5;241m=\u001b[39m\u001b[38;5;241m1.0\u001b[39m, neginf\u001b[38;5;241m=\u001b[39m\u001b[38;5;241m-\u001b[39m\u001b[38;5;241m1.0\u001b[39m), grads)\n",
      "    \u001b[0;31m[... skipping hidden 16 frame]\u001b[0m\n",
      "Cell \u001b[0;32mIn[418], line 21\u001b[0m, in \u001b[0;36mcompute_loss_acc\u001b[0;34m(state, params, batch)\u001b[0m\n\u001b[1;32m     18\u001b[0m loss \u001b[38;5;241m=\u001b[39m optax\u001b[38;5;241m.\u001b[39msoftmax_cross_entropy(logits, labels)\u001b[38;5;241m.\u001b[39mmean()\n\u001b[1;32m     20\u001b[0m \u001b[38;5;66;03m# 🚨 Check for NaNs in loss\u001b[39;00m\n\u001b[0;32m---> 21\u001b[0m \u001b[38;5;28;01mif\u001b[39;00m jnp\u001b[38;5;241m.\u001b[39misnan(loss):\n\u001b[1;32m     22\u001b[0m     \u001b[38;5;28mprint\u001b[39m(\u001b[38;5;124m\"\u001b[39m\u001b[38;5;124m🚨 NaN detected in loss!\u001b[39m\u001b[38;5;124m\"\u001b[39m)\n\u001b[1;32m     24\u001b[0m acc \u001b[38;5;241m=\u001b[39m jnp\u001b[38;5;241m.\u001b[39mmean(jnp\u001b[38;5;241m.\u001b[39margmax(logits, \u001b[38;5;241m-\u001b[39m\u001b[38;5;241m1\u001b[39m) \u001b[38;5;241m==\u001b[39m jnp\u001b[38;5;241m.\u001b[39margmax(labels, \u001b[38;5;241m-\u001b[39m\u001b[38;5;241m1\u001b[39m))\n",
      "    \u001b[0;31m[... skipping hidden 1 frame]\u001b[0m\n",
      "File \u001b[0;32m~/miniconda3/envs/AI/lib/python3.12/site-packages/jax/_src/core.py:1572\u001b[0m, in \u001b[0;36mconcretization_function_error.<locals>.error\u001b[0;34m(self, arg)\u001b[0m\n\u001b[1;32m   1571\u001b[0m \u001b[38;5;28;01mdef\u001b[39;00m \u001b[38;5;21merror\u001b[39m(\u001b[38;5;28mself\u001b[39m, arg):\n\u001b[0;32m-> 1572\u001b[0m   \u001b[38;5;28;01mraise\u001b[39;00m TracerBoolConversionError(arg)\n",
      "\u001b[0;31mTracerBoolConversionError\u001b[0m: Attempted boolean conversion of traced array with shape bool[].\nThe error occurred while tracing the function train_step at /tmp/ipykernel_1465/2129499099.py:2 for jit. This concrete value was not available in Python because it depends on the values of the arguments state.params['params']['Conv_0']['bias'], state.params['params']['Conv_0']['kernel'], state.params['params']['Conv_1']['bias'], state.params['params']['Conv_1']['kernel'], state.params['params']['Conv_2']['bias'], state.params['params']['Conv_2']['kernel'], state.params['params']['Conv_3']['bias'], state.params['params']['Conv_3']['kernel'], state.params['params']['Dense_0']['bias'], state.params['params']['Dense_0']['kernel'], state.params['params']['Dense_1']['bias'], state.params['params']['Dense_1']['kernel'], batch[0], and batch[1].\nSee https://jax.readthedocs.io/en/latest/errors.html#jax.errors.TracerBoolConversionError"
     ]
    }
   ],
   "source": [
    "train_model(model_state, train_data, valid_data, num_epochs=200)"
   ]
  }
 ],
 "metadata": {
  "kernelspec": {
   "display_name": "AI",
   "language": "python",
   "name": "python3"
  },
  "language_info": {
   "codemirror_mode": {
    "name": "ipython",
    "version": 3
   },
   "file_extension": ".py",
   "mimetype": "text/x-python",
   "name": "python",
   "nbconvert_exporter": "python",
   "pygments_lexer": "ipython3",
   "version": "3.12.7"
  }
 },
 "nbformat": 4,
 "nbformat_minor": 2
}
